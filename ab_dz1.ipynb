{
 "cells": [
  {
   "cell_type": "code",
   "execution_count": 7,
   "id": "bf9223ed",
   "metadata": {},
   "outputs": [],
   "source": [
    "import pandas as pd"
   ]
  },
  {
   "cell_type": "code",
   "execution_count": 40,
   "id": "0751e6b9",
   "metadata": {},
   "outputs": [],
   "source": [
    "df=pd.read_csv('corpus.csv', delimiter='|', encoding='utf8')"
   ]
  },
  {
   "cell_type": "code",
   "execution_count": 51,
   "id": "1b916cf3",
   "metadata": {},
   "outputs": [
    {
     "data": {
      "text/html": [
       "<div>\n",
       "<style scoped>\n",
       "    .dataframe tbody tr th:only-of-type {\n",
       "        vertical-align: middle;\n",
       "    }\n",
       "\n",
       "    .dataframe tbody tr th {\n",
       "        vertical-align: top;\n",
       "    }\n",
       "\n",
       "    .dataframe thead th {\n",
       "        text-align: right;\n",
       "    }\n",
       "</style>\n",
       "<table border=\"1\" class=\"dataframe\">\n",
       "  <thead>\n",
       "    <tr style=\"text-align: right;\">\n",
       "      <th></th>\n",
       "      <th>text</th>\n",
       "      <th>original_kw</th>\n",
       "      <th>my_kw</th>\n",
       "      <th>all_kw</th>\n",
       "    </tr>\n",
       "  </thead>\n",
       "  <tbody>\n",
       "    <tr>\n",
       "      <th>0</th>\n",
       "      <td>Сегодня стало известно, что якутский шаман Але...</td>\n",
       "      <td>Александр Габышев, шаман Габышев, якутский шам...</td>\n",
       "      <td>якутский шаман, Екатеринбург, Александр Габыше...</td>\n",
       "      <td>Александр Габышев, шаман Габышев, якутский шам...</td>\n",
       "    </tr>\n",
       "    <tr>\n",
       "      <th>1</th>\n",
       "      <td>Два года назад под Жуковским произошло «чудо н...</td>\n",
       "      <td>«Уральские авиалинии», Дамир Юсупов, самолет с...</td>\n",
       "      <td>Уральские авиалинии, кукурузное поле, Дамир Юс...</td>\n",
       "      <td>Дамир Юсупов, самолет сел в поле, Уральские ав...</td>\n",
       "    </tr>\n",
       "    <tr>\n",
       "      <th>2</th>\n",
       "      <td>МЧС продлило штормовое предупреждение до понед...</td>\n",
       "      <td>МЧС, гололед, гололедица, мокрый снег, погода,...</td>\n",
       "      <td>Свердловская область, мокрый снег, ветер, МЧС,...</td>\n",
       "      <td>МЧС, гололед, гололедица, мокрый снег, погода,...</td>\n",
       "    </tr>\n",
       "    <tr>\n",
       "      <th>3</th>\n",
       "      <td>Житель Асбеста, подозреваемый в стрельбе по ма...</td>\n",
       "      <td>Асбест, мера пресечения, обстреляли автомобиль...</td>\n",
       "      <td>Асбест, стрельба, хулиганство, суд</td>\n",
       "      <td>Асбест, мера пресечения, обстреляли автомобиль...</td>\n",
       "    </tr>\n",
       "    <tr>\n",
       "      <th>4</th>\n",
       "      <td>Эффектная блондинка Ирина Карабанова участвует...</td>\n",
       "      <td>блондинка, красивая девушка, красотка, модель,...</td>\n",
       "      <td>Ирина Карабанова, нижнее белье, модель, подиум...</td>\n",
       "      <td>блондинка, красивая девушка, красотка, модель,...</td>\n",
       "    </tr>\n",
       "  </tbody>\n",
       "</table>\n",
       "</div>"
      ],
      "text/plain": [
       "                                                text  \\\n",
       "0  Сегодня стало известно, что якутский шаман Але...   \n",
       "1  Два года назад под Жуковским произошло «чудо н...   \n",
       "2  МЧС продлило штормовое предупреждение до понед...   \n",
       "3  Житель Асбеста, подозреваемый в стрельбе по ма...   \n",
       "4  Эффектная блондинка Ирина Карабанова участвует...   \n",
       "\n",
       "                                         original_kw  \\\n",
       "0  Александр Габышев, шаман Габышев, якутский шам...   \n",
       "1  «Уральские авиалинии», Дамир Юсупов, самолет с...   \n",
       "2  МЧС, гололед, гололедица, мокрый снег, погода,...   \n",
       "3  Асбест, мера пресечения, обстреляли автомобиль...   \n",
       "4  блондинка, красивая девушка, красотка, модель,...   \n",
       "\n",
       "                                               my_kw  \\\n",
       "0  якутский шаман, Екатеринбург, Александр Габыше...   \n",
       "1  Уральские авиалинии, кукурузное поле, Дамир Юс...   \n",
       "2  Свердловская область, мокрый снег, ветер, МЧС,...   \n",
       "3                 Асбест, стрельба, хулиганство, суд   \n",
       "4  Ирина Карабанова, нижнее белье, модель, подиум...   \n",
       "\n",
       "                                              all_kw  \n",
       "0  Александр Габышев, шаман Габышев, якутский шам...  \n",
       "1  Дамир Юсупов, самолет сел в поле, Уральские ав...  \n",
       "2  МЧС, гололед, гололедица, мокрый снег, погода,...  \n",
       "3  Асбест, мера пресечения, обстреляли автомобиль...  \n",
       "4  блондинка, красивая девушка, красотка, модель,...  "
      ]
     },
     "execution_count": 51,
     "metadata": {},
     "output_type": "execute_result"
    }
   ],
   "source": [
    "df.head()"
   ]
  },
  {
   "cell_type": "markdown",
   "id": "d4f5279f",
   "metadata": {},
   "source": [
    "Источник: https://www.e1.ru/. Ключевые слова были указаны в качестве тэгов под статьей, их количество варьировалось в зависимости от статьи, ключевые слова были довольно узкими, иногда не совсем корректными, например: использовались кавычки, глаголы в неинфинтивной форме, словосочетания с больше чем 2-3 словами."
   ]
  },
  {
   "cell_type": "markdown",
   "id": "c3be02c6",
   "metadata": {},
   "source": [
    "Мои ключевые слова и оригинальные ключевые слова пересекаются, но в оригинальных есть такие словосочетания, которые хорошо описывают тему текста, например \"уголовное дело\" или \"погода\", но при этом в самом тексте такого словосочетания нет."
   ]
  },
  {
   "cell_type": "markdown",
   "id": "f39382e0",
   "metadata": {},
   "source": [
    "Объединим ключевые слова"
   ]
  },
  {
   "cell_type": "code",
   "execution_count": 42,
   "id": "37402700",
   "metadata": {},
   "outputs": [],
   "source": [
    "df[\"all_kw\"] = df[\"original_kw\"] + \", \" + df[\"my_kw\"]"
   ]
  },
  {
   "cell_type": "markdown",
   "id": "0faa815e",
   "metadata": {},
   "source": [
    "Уберем дубли и лишние знаки"
   ]
  },
  {
   "cell_type": "code",
   "execution_count": 49,
   "id": "bc08cd9f",
   "metadata": {},
   "outputs": [],
   "source": [
    "df.replace(\"Александр Габышев, шаман Габышев, якутский шаман, задержали шамана, якутский шаман, Екатеринбург, Александр Габышев, психиатрическая больница, задержание\", \n",
    "           \"Александр Габышев, шаман Габышев, якутский шаман, задержали шамана, Екатеринбург, психиатрическая больница, задержание\", \n",
    "           inplace=True)\n",
    "df.replace(\"«Уральские авиалинии», Дамир Юсупов, самолет сел в поле, Уральские авиалинии, кукурузное поле, Дамир Юсупов, экстренная посадка, Жуковский\", \n",
    "           \"Дамир Юсупов, самолет сел в поле, Уральские авиалинии, кукурузное поле, экстренная посадка, Жуковский\", \n",
    "           inplace=True)\n",
    "df.replace(\"МЧС, гололед, гололедица, мокрый снег, погода, шторм, ветер в городе, Свердловская область, мокрый снег, ветер, МЧС, гололед\", \n",
    "           \"МЧС, гололед, гололедица, мокрый снег, погода, шторм, ветер в городе, Свердловская область, ветер\", \n",
    "           inplace=True)\n",
    "df.replace(\"Асбест, мера пресечения, обстреляли автомобиль, ружье, стража, уголовное дело, хулиганство, суд, Асбест, стрельба, хулиганство, суд\", \n",
    "           \"Асбест, мера пресечения, обстреляли автомобиль, ружье, стража, уголовное дело, хулиганство, суд, стрельба\", \n",
    "           inplace=True)\n",
    "df.replace(\"блондинка, красивая девушка, красотка, модель, модель plus size, модный показ, нижнее белье, подиум, преподаватель, студенты, ученый, фото в купальниках, фото в белье, преподаватель вуза, женщина-ученый, модель XL, Ирина Карабанова, нижнее белье, модель, подиум, преподаватель, ученый\", \n",
    "           \"блондинка, красивая девушка, красотка, модель, модель plus size, модный показ, нижнее белье, подиум, преподаватель, студенты, ученый, фото в купальниках, фото в белье, преподаватель вуза, женщина-ученый, модель XL, Ирина Карабанова\", \n",
    "           inplace=True)\n",
    "df.replace(\"история, книга, книжный обзор, обзор, писатель, роман, Албания, Вадим Бадретдинов, Албания, роман, Исмаиль Кадарэ, Дворец сновидений, антиутопия\", \n",
    "           \"история, книга, книжный обзор, обзор, писатель, роман, Албания, Вадим Бадретдинов, Исмаиль Кадарэ, Дворец сновидений, антиутопия\", \n",
    "           inplace=True)\n",
    "df.replace(\"судебные приставы, долги, Артем Комсюков, кредитор, судебный пристав, банкротство, должник\", \n",
    "           \"судебные приставы, долги, Артем Комсюков, кредитор, банкротство, должник\", \n",
    "           inplace=True)\n",
    "df.replace(\"деньги, мошенник, мошенники, мошенничество, обманули пенсионерку, полиция, телефонное мошенничество, уголовное дело, блокадники, Екатеринбург, пенсионерка, мошенники, деньги, полиция\", \n",
    "           \"деньги, мошенничество, обманули пенсионерку, полиция, телефонное мошенничество, уголовное дело, блокадники, Екатеринбург, пенсионерка, мошенники\", \n",
    "           inplace=True)"
   ]
  },
  {
   "cell_type": "code",
   "execution_count": 59,
   "id": "f70c299c",
   "metadata": {},
   "outputs": [],
   "source": [
    "import RAKE\n",
    "import nltk\n",
    "#nltk.download('stopwords')\n",
    "from nltk.corpus import stopwords\n",
    "\n",
    "stop = stopwords.words('russian')\n",
    "\n",
    "from pymorphy2 import MorphAnalyzer\n",
    "from pymorphy2.tokenizers import simple_word_tokenize"
   ]
  },
  {
   "cell_type": "code",
   "execution_count": 60,
   "id": "ea3d7365",
   "metadata": {},
   "outputs": [],
   "source": [
    "m = MorphAnalyzer()\n",
    "def normalize_text(text):\n",
    "    lemmas = []\n",
    "    for t in simple_word_tokenize(text):\n",
    "        lemmas.append(\n",
    "            m.parse(t)[0].normal_form\n",
    "        )\n",
    "    return ' '.join(lemmas)"
   ]
  },
  {
   "cell_type": "code",
   "execution_count": 72,
   "id": "78ffa643",
   "metadata": {},
   "outputs": [],
   "source": [
    "rake = RAKE.Rake(stop)"
   ]
  },
  {
   "cell_type": "code",
   "execution_count": 77,
   "id": "b73236ae",
   "metadata": {},
   "outputs": [],
   "source": [
    "kw_list_0 = rake.run(normalize_text(df['text'][0]), maxWords=3, minFrequency=2)"
   ]
  },
  {
   "cell_type": "code",
   "execution_count": 259,
   "id": "8f9bdb88",
   "metadata": {},
   "outputs": [
    {
     "data": {
      "text/plain": [
       "('новосибирский больница', 4.166666666666667)"
      ]
     },
     "execution_count": 259,
     "metadata": {},
     "output_type": "execute_result"
    }
   ],
   "source": [
    "kw_list_0"
   ]
  },
  {
   "cell_type": "code",
   "execution_count": 94,
   "id": "03dd4fba",
   "metadata": {},
   "outputs": [],
   "source": [
    "kw_list_1 = rake.run(normalize_text(df['text'][6]), maxWords=3, minFrequency=2)"
   ]
  },
  {
   "cell_type": "code",
   "execution_count": 95,
   "id": "a5313273",
   "metadata": {},
   "outputs": [
    {
     "data": {
      "text/plain": [
       "[('предъявить исполнительный лист', 8.291666666666666),\n",
       " ('исполнительный лист', 5.291666666666666),\n",
       " ('возбуждение дело', 4.583333333333334),\n",
       " ('штрафной санкция', 4.0),\n",
       " ('дать результат', 3.916666666666667),\n",
       " ('банкротство должник', 3.4176470588235297),\n",
       " ('должник', 2.1176470588235294),\n",
       " ('кредитор', 1.9090909090909092),\n",
       " ('заявление', 1.8),\n",
       " ('пристав', 1.6363636363636365),\n",
       " ('просто', 1.5),\n",
       " ('знать', 1.4),\n",
       " ('банкротство', 1.3),\n",
       " ('банк', 1.2857142857142858),\n",
       " ('несостоятельность', 1.25),\n",
       " ('получение', 1.0),\n",
       " ('следовательно', 1.0),\n",
       " ('почему', 1.0),\n",
       " ('ситуация', 1.0)]"
      ]
     },
     "execution_count": 95,
     "metadata": {},
     "output_type": "execute_result"
    }
   ],
   "source": [
    "kw_list_1"
   ]
  },
  {
   "cell_type": "code",
   "execution_count": 271,
   "id": "b16bb055",
   "metadata": {},
   "outputs": [],
   "source": [
    "from summa import keywords"
   ]
  },
  {
   "cell_type": "code",
   "execution_count": 422,
   "id": "ef623494",
   "metadata": {
    "scrolled": true
   },
   "outputs": [
    {
     "data": {
      "text/plain": [
       "[('должник', 0.3721688537051222),\n",
       " ('свой', 0.26571889469040477),\n",
       " ('являться', 0.1238927676111341),\n",
       " ('многие кредитор', 0.12346466294568867),\n",
       " ('счёт', 0.12153653252962009),\n",
       " ('деньга', 0.11387771244263618),\n",
       " ('практика', 0.10999062537755892),\n",
       " ('служба судебный пристав', 0.10919075398250672),\n",
       " ('это делать', 0.10835653039075835),\n",
       " ('иметься', 0.1065394707958447),\n",
       " ('иметь', 0.1065394707958447),\n",
       " ('исполнительный лист', 0.10373058108011779),\n",
       " ('суд', 0.10361782830310147),\n",
       " ('всё', 0.1019230041687243),\n",
       " ('принудительно', 0.10161306374257828),\n",
       " ('дать', 0.10084188320332542),\n",
       " ('задолженность', 0.09889711918085148),\n",
       " ('либо', 0.09887671507823569),\n",
       " ('способ принудительный исполнение', 0.09434667693040732),\n",
       " ('самый', 0.091381157200591),\n",
       " ('случай', 0.08969161403855284),\n",
       " ('требование включить', 0.08779396847731469),\n",
       " ('решение', 0.08728933331598296),\n",
       " ('банкротство', 0.08698077467040755),\n",
       " ('оперативно', 0.08696507752600491),\n",
       " ('оперативный', 0.08696507752600491),\n",
       " ('долг', 0.084810475284215),\n",
       " ('долгий', 0.084810475284215),\n",
       " ('рубль', 0.0839362477371849),\n",
       " ('постановление', 0.08187568331235759),\n",
       " ('заявление', 0.08132023115274833),\n",
       " ('государственный', 0.080989022251693),\n",
       " ('банк', 0.07880962642694089),\n",
       " ('процедура', 0.0760160923341237),\n",
       " ('дело', 0.07491146597589247),\n",
       " ('требоваться наличие', 0.07283544254963634),\n",
       " ('год', 0.07155435213838045),\n",
       " ('возбуждение', 0.0711340649110658),\n",
       " ('юридический', 0.06965942466385613),\n",
       " ('несколько', 0.0661675385853331),\n",
       " ('весь', 0.06607390274415066),\n",
       " ('федеральный', 0.0660438664086139),\n",
       " ('текучка', 0.06592442588217962),\n",
       " ('саморазвиваться', 0.05864194421910441),\n",
       " ('проявлять', 0.058641944219104306),\n",
       " ('заработный плата', 0.05864194421910418),\n",
       " ('бывать', 0.05864194421910383),\n",
       " ('правило', 0.05864194421910382),\n",
       " ('использовать крайне', 0.05864194421910379),\n",
       " ('акт', 0.056382545723981096),\n",
       " ('который', 0.056152288223845076),\n",
       " ('рабочий день', 0.05592424050844337),\n",
       " ('включая', 0.05558488987636852),\n",
       " ('опыт', 0.05299248417421629),\n",
       " ('согласно', 0.052844881977250326),\n",
       " ('фссп', 0.052323693107425)]"
      ]
     },
     "execution_count": 422,
     "metadata": {},
     "output_type": "execute_result"
    }
   ],
   "source": [
    "keywords.keywords(normalize_text(df['text'][6]), language='russian', additional_stopwords=stop, scores=True)"
   ]
  },
  {
   "cell_type": "code",
   "execution_count": 128,
   "id": "c9997d80",
   "metadata": {},
   "outputs": [],
   "source": [
    "import yake #Yet Another Keyword Extractor\n",
    "kw_extractor = yake.KeywordExtractor()\n",
    "text = normalize_text(df['text'][6])\n",
    "language = \"ru\"\n",
    "max_ngram_size = 2\n",
    "deduplication_threshold = 0.9\n",
    "numOfKeywords = 20\n",
    "custom_kw_extractor = yake.KeywordExtractor(lan=language, n=max_ngram_size, dedupLim=deduplication_threshold, top=numOfKeywords, features=None)\n",
    "keywords = custom_kw_extractor.extract_keywords(text)"
   ]
  },
  {
   "cell_type": "code",
   "execution_count": 129,
   "id": "c70732a1",
   "metadata": {},
   "outputs": [
    {
     "data": {
      "text/plain": [
       "[('исполнительный лист', 0.00013894716683832887),\n",
       " ('принудительный исполнение', 0.000189369984078989),\n",
       " ('способ принудительный', 0.00034032050685268506),\n",
       " ('банкротство должник', 0.0004151664638470729),\n",
       " ('исполнение судебный', 0.00047377993715562135),\n",
       " ('исполнительный производство', 0.0005008459813514171),\n",
       " ('судебный акт', 0.0007093190501843743),\n",
       " ('предъявить исполнительный', 0.0007243077932901934),\n",
       " ('счёт должник', 0.0007481111783085984),\n",
       " ('способ являться', 0.0007803799360429725),\n",
       " ('возбуждение дело', 0.0008221107922563647),\n",
       " ('кредитор должник', 0.0010945022565700552),\n",
       " ('решение суд', 0.0011213042605261404),\n",
       " ('процедура банкротство', 0.0011280364665797592),\n",
       " ('являться самый', 0.0014851207646380778),\n",
       " ('дать результат', 0.0015308688082285476),\n",
       " ('требование кредитор', 0.0015449086314914056),\n",
       " ('должник', 0.0015658921038986529),\n",
       " ('дать процедура', 0.0015928222322147511),\n",
       " ('иной кредитор', 0.0016419066807923687)]"
      ]
     },
     "execution_count": 129,
     "metadata": {},
     "output_type": "execute_result"
    }
   ],
   "source": [
    "keywords"
   ]
  },
  {
   "cell_type": "markdown",
   "id": "93debb42",
   "metadata": {},
   "source": [
    "Чем ниже score, тем релевантнее ключевое слово."
   ]
  },
  {
   "cell_type": "code",
   "execution_count": 134,
   "id": "0a96f4b0",
   "metadata": {},
   "outputs": [
    {
     "name": "stdout",
     "output_type": "stream",
     "text": [
      "Downloaded pre-trained UDPipe model for 'ru' language\n"
     ]
    }
   ],
   "source": [
    "import spacy_udpipe"
   ]
  },
  {
   "cell_type": "code",
   "execution_count": 135,
   "id": "68e24385",
   "metadata": {},
   "outputs": [],
   "source": [
    "all_kw_list = df['all_kw'].tolist()"
   ]
  },
  {
   "cell_type": "code",
   "execution_count": 205,
   "id": "5dfdf25e",
   "metadata": {},
   "outputs": [],
   "source": [
    "q = [k.split(', ') for k in all_kw_list]"
   ]
  },
  {
   "cell_type": "markdown",
   "id": "aa5c3e22",
   "metadata": {},
   "source": [
    "Выделим шаблоны из \"эталонной\" разметки"
   ]
  },
  {
   "cell_type": "code",
   "execution_count": 248,
   "id": "d400a9ac",
   "metadata": {},
   "outputs": [],
   "source": [
    "dic = {}\n",
    "for l in q:\n",
    "    for i in l:\n",
    "        f = []\n",
    "        i1 = i.split()\n",
    "        for j in i1:\n",
    "            p = m.parse(j)\n",
    "            f.append(p[0].tag.POS)\n",
    "        dic[i] = f"
   ]
  },
  {
   "cell_type": "code",
   "execution_count": 252,
   "id": "056a0780",
   "metadata": {},
   "outputs": [],
   "source": [
    "all_texts = df['text'].tolist()"
   ]
  },
  {
   "cell_type": "markdown",
   "id": "6be1212a",
   "metadata": {},
   "source": [
    "Достанем ключевые слова текстов 3 методами"
   ]
  },
  {
   "cell_type": "code",
   "execution_count": 306,
   "id": "7a3b1b0c",
   "metadata": {},
   "outputs": [],
   "source": [
    "rake_kw = [rake.run(normalize_text(text), maxWords=3, minFrequency=2) for text in all_texts]"
   ]
  },
  {
   "cell_type": "code",
   "execution_count": 307,
   "id": "d666c107",
   "metadata": {},
   "outputs": [],
   "source": [
    "rake_kw = [j[0] for i in rake_kw for j in i]"
   ]
  },
  {
   "cell_type": "code",
   "execution_count": 309,
   "id": "7e5ce7ec",
   "metadata": {},
   "outputs": [],
   "source": [
    "textrank_kw = [keywords.keywords(normalize_text(text), language='russian', additional_stopwords=stop, scores=True) for text in all_texts]"
   ]
  },
  {
   "cell_type": "code",
   "execution_count": 310,
   "id": "b181a711",
   "metadata": {},
   "outputs": [],
   "source": [
    "textrank_kw = [j[0] for i in textrank_kw for j in i]"
   ]
  },
  {
   "cell_type": "code",
   "execution_count": 312,
   "id": "d4b87580",
   "metadata": {},
   "outputs": [],
   "source": [
    "yake_kw = [custom_kw_extractor.extract_keywords(normalize_text(text)) for text in all_texts]"
   ]
  },
  {
   "cell_type": "code",
   "execution_count": 313,
   "id": "cacd74b8",
   "metadata": {},
   "outputs": [],
   "source": [
    "yake_kw = [j[0] for i in yake_kw for j in i]"
   ]
  },
  {
   "cell_type": "markdown",
   "id": "984b709f",
   "metadata": {},
   "source": [
    "Выделим шаблоны"
   ]
  },
  {
   "cell_type": "code",
   "execution_count": 315,
   "id": "f2954d90",
   "metadata": {},
   "outputs": [],
   "source": [
    "rake_d = {}\n",
    "for i in rake_kw:\n",
    "    f = []\n",
    "    i1 = i.split()\n",
    "    for j in i1:\n",
    "        p = m.parse(j)\n",
    "        f.append(p[0].tag.POS)\n",
    "    rake_d[i] = f"
   ]
  },
  {
   "cell_type": "code",
   "execution_count": 316,
   "id": "409f4ed0",
   "metadata": {},
   "outputs": [],
   "source": [
    "textrank_d = {}\n",
    "for i in textrank_kw:\n",
    "    f = []\n",
    "    i1 = i.split()\n",
    "    for j in i1:\n",
    "        p = m.parse(j)\n",
    "        f.append(p[0].tag.POS)\n",
    "    textrank_d[i] = f"
   ]
  },
  {
   "cell_type": "code",
   "execution_count": 317,
   "id": "cd08ccbf",
   "metadata": {},
   "outputs": [],
   "source": [
    "yake_d = {}\n",
    "for i in yake_kw:\n",
    "    f = []\n",
    "    i1 = i.split()\n",
    "    for j in i1:\n",
    "        p = m.parse(j)\n",
    "        f.append(p[0].tag.POS)\n",
    "    yake_d[i] = f"
   ]
  },
  {
   "cell_type": "markdown",
   "id": "39962d55",
   "metadata": {},
   "source": [
    "Применим фильтры"
   ]
  },
  {
   "cell_type": "code",
   "execution_count": 330,
   "id": "858753a6",
   "metadata": {},
   "outputs": [],
   "source": [
    "new_dict = {}\n",
    "for key, value in rake_d.items():\n",
    "    if value in list(dic.values()):\n",
    "        new_dict[key] = value\n",
    "rake_d = new_dict"
   ]
  },
  {
   "cell_type": "code",
   "execution_count": 332,
   "id": "fda9b45d",
   "metadata": {},
   "outputs": [],
   "source": [
    "new_dic = {}\n",
    "for key, value in textrank_d.items():\n",
    "    if value in list(dic.values()):\n",
    "        new_dic[key] = value\n",
    "textrank_d = new_dic"
   ]
  },
  {
   "cell_type": "code",
   "execution_count": 333,
   "id": "da9f66e6",
   "metadata": {},
   "outputs": [],
   "source": [
    "new_di = {}\n",
    "for key, value in yake_d.items():\n",
    "    if value in list(dic.values()):\n",
    "        new_di[key] = value\n",
    "yake_d = new_di"
   ]
  },
  {
   "cell_type": "code",
   "execution_count": 337,
   "id": "3f007adf",
   "metadata": {},
   "outputs": [],
   "source": [
    "new_ = {}\n",
    "for key, value in rake_d.items():\n",
    "    if key in list(dic.keys()):\n",
    "        new_[key] = value\n",
    "rake_d_w = new_"
   ]
  },
  {
   "cell_type": "code",
   "execution_count": 338,
   "id": "fa60a8b2",
   "metadata": {},
   "outputs": [],
   "source": [
    "new = {}\n",
    "for key, value in textrank_d.items():\n",
    "    if key in list(dic.keys()):\n",
    "        new[key] = value\n",
    "textrank_d_w = new"
   ]
  },
  {
   "cell_type": "code",
   "execution_count": 339,
   "id": "de7cf926",
   "metadata": {},
   "outputs": [],
   "source": [
    "ne = {}\n",
    "for key, value in yake_d.items():\n",
    "    if key in list(dic.keys()):\n",
    "        ne[key] = value\n",
    "yake_d_w = ne"
   ]
  },
  {
   "cell_type": "markdown",
   "id": "bc756102",
   "metadata": {},
   "source": [
    "Оценим точность, полноту, F-меру выбранных методов относительно эталона"
   ]
  },
  {
   "cell_type": "code",
   "execution_count": 401,
   "id": "8f66c8bf",
   "metadata": {},
   "outputs": [],
   "source": [
    "precision_r = len(rake_d_w) / len(rake_d)"
   ]
  },
  {
   "cell_type": "code",
   "execution_count": 402,
   "id": "361ebd91",
   "metadata": {},
   "outputs": [
    {
     "data": {
      "text/plain": [
       "0.2"
      ]
     },
     "execution_count": 402,
     "metadata": {},
     "output_type": "execute_result"
    }
   ],
   "source": [
    "precision_r"
   ]
  },
  {
   "cell_type": "code",
   "execution_count": 403,
   "id": "82327a74",
   "metadata": {},
   "outputs": [],
   "source": [
    "recall_r = len(rake_d_w) / len(dic)"
   ]
  },
  {
   "cell_type": "code",
   "execution_count": 404,
   "id": "f5697755",
   "metadata": {},
   "outputs": [
    {
     "data": {
      "text/plain": [
       "0.1095890410958904"
      ]
     },
     "execution_count": 404,
     "metadata": {},
     "output_type": "execute_result"
    }
   ],
   "source": [
    "recall_r"
   ]
  },
  {
   "cell_type": "code",
   "execution_count": 405,
   "id": "7a3c98dc",
   "metadata": {},
   "outputs": [],
   "source": [
    "F_score_r = 2 * (precision_r * recall_r) / (precision_r + recall_r)"
   ]
  },
  {
   "cell_type": "code",
   "execution_count": 406,
   "id": "7f9afccb",
   "metadata": {},
   "outputs": [
    {
     "data": {
      "text/plain": [
       "0.1415929203539823"
      ]
     },
     "execution_count": 406,
     "metadata": {},
     "output_type": "execute_result"
    }
   ],
   "source": [
    "F_score_r"
   ]
  },
  {
   "cell_type": "code",
   "execution_count": 409,
   "id": "7613b9dd",
   "metadata": {},
   "outputs": [],
   "source": [
    "precision_t = len(textrank_d_w) / len(textrank_d)"
   ]
  },
  {
   "cell_type": "code",
   "execution_count": 410,
   "id": "70af06f0",
   "metadata": {},
   "outputs": [
    {
     "data": {
      "text/plain": [
       "0.07751937984496124"
      ]
     },
     "execution_count": 410,
     "metadata": {},
     "output_type": "execute_result"
    }
   ],
   "source": [
    "precision_t"
   ]
  },
  {
   "cell_type": "code",
   "execution_count": 411,
   "id": "0628c824",
   "metadata": {},
   "outputs": [],
   "source": [
    "recall_t = len(textrank_d_w) / len(dic)"
   ]
  },
  {
   "cell_type": "code",
   "execution_count": 412,
   "id": "bb4b9967",
   "metadata": {},
   "outputs": [
    {
     "data": {
      "text/plain": [
       "0.136986301369863"
      ]
     },
     "execution_count": 412,
     "metadata": {},
     "output_type": "execute_result"
    }
   ],
   "source": [
    "recall_t"
   ]
  },
  {
   "cell_type": "code",
   "execution_count": 413,
   "id": "5cae4cc4",
   "metadata": {},
   "outputs": [],
   "source": [
    "F_score_t = 2 * (precision_t * recall_t) / (precision_t + recall_t)"
   ]
  },
  {
   "cell_type": "code",
   "execution_count": 414,
   "id": "0324dbae",
   "metadata": {},
   "outputs": [
    {
     "data": {
      "text/plain": [
       "0.09900990099009901"
      ]
     },
     "execution_count": 414,
     "metadata": {},
     "output_type": "execute_result"
    }
   ],
   "source": [
    "F_score_t"
   ]
  },
  {
   "cell_type": "code",
   "execution_count": 415,
   "id": "254d5de6",
   "metadata": {},
   "outputs": [],
   "source": [
    "precision_y = len(yake_d_w) / len(yake_d)"
   ]
  },
  {
   "cell_type": "code",
   "execution_count": 416,
   "id": "e0606912",
   "metadata": {},
   "outputs": [
    {
     "data": {
      "text/plain": [
       "0.05128205128205128"
      ]
     },
     "execution_count": 416,
     "metadata": {},
     "output_type": "execute_result"
    }
   ],
   "source": [
    "precision_y"
   ]
  },
  {
   "cell_type": "code",
   "execution_count": 417,
   "id": "8e013b65",
   "metadata": {},
   "outputs": [],
   "source": [
    "recall_y = len(yake_d_w) / len(dic)"
   ]
  },
  {
   "cell_type": "code",
   "execution_count": 418,
   "id": "fb822a67",
   "metadata": {},
   "outputs": [
    {
     "data": {
      "text/plain": [
       "0.0547945205479452"
      ]
     },
     "execution_count": 418,
     "metadata": {},
     "output_type": "execute_result"
    }
   ],
   "source": [
    "recall_y"
   ]
  },
  {
   "cell_type": "code",
   "execution_count": 419,
   "id": "0cc5193e",
   "metadata": {},
   "outputs": [],
   "source": [
    "F_score_y = 2 * (precision_y * recall_y) / (precision_y + recall_y)"
   ]
  },
  {
   "cell_type": "code",
   "execution_count": 420,
   "id": "879c4c20",
   "metadata": {},
   "outputs": [
    {
     "data": {
      "text/plain": [
       "0.052980132450331126"
      ]
     },
     "execution_count": 420,
     "metadata": {},
     "output_type": "execute_result"
    }
   ],
   "source": [
    "F_score_y"
   ]
  },
  {
   "cell_type": "code",
   "execution_count": null,
   "id": "886c397a",
   "metadata": {},
   "outputs": [],
   "source": []
  }
 ],
 "metadata": {
  "kernelspec": {
   "display_name": "Python 3",
   "language": "python",
   "name": "python3"
  },
  "language_info": {
   "codemirror_mode": {
    "name": "ipython",
    "version": 3
   },
   "file_extension": ".py",
   "mimetype": "text/x-python",
   "name": "python",
   "nbconvert_exporter": "python",
   "pygments_lexer": "ipython3",
   "version": "3.8.8"
  }
 },
 "nbformat": 4,
 "nbformat_minor": 5
}
