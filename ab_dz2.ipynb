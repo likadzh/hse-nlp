{
 "cells": [
  {
   "cell_type": "code",
   "execution_count": 1,
   "id": "766b3306",
   "metadata": {},
   "outputs": [],
   "source": [
    "import pandas as pd\n",
    "pd.options.mode.chained_assignment = None  # default='warn'\n",
    "import gzip\n",
    "import json"
   ]
  },
  {
   "cell_type": "code",
   "execution_count": 2,
   "id": "90312046",
   "metadata": {},
   "outputs": [],
   "source": [
    "import string"
   ]
  },
  {
   "cell_type": "code",
   "execution_count": 3,
   "id": "b902bc22",
   "metadata": {},
   "outputs": [],
   "source": [
    "import nltk\n",
    "stopwords = nltk.corpus.stopwords.words('english')\n",
    "from nltk.tokenize import word_tokenize\n",
    "from nltk.stem import WordNetLemmatizer\n",
    "wordnet_lemmatizer = WordNetLemmatizer()\n",
    "from nltk import FreqDist"
   ]
  },
  {
   "cell_type": "code",
   "execution_count": 4,
   "id": "9f1c7bc1",
   "metadata": {},
   "outputs": [],
   "source": [
    "import numpy as np\n",
    "import gensim\n",
    "from gensim import corpora"
   ]
  },
  {
   "cell_type": "code",
   "execution_count": 115,
   "id": "00953ac4",
   "metadata": {},
   "outputs": [],
   "source": [
    "import contractions"
   ]
  },
  {
   "cell_type": "code",
   "execution_count": 118,
   "id": "5035bc2d",
   "metadata": {},
   "outputs": [],
   "source": [
    "def parse(path):\n",
    "    g = gzip.open(path, 'rb')\n",
    "    for l in g:\n",
    "        yield json.loads(l)\n",
    "\n",
    "def getDF(path):\n",
    "    i = 0\n",
    "    df = {}\n",
    "    for d in parse(path):\n",
    "        df[i] = d\n",
    "        i += 1\n",
    "    return pd.DataFrame.from_dict(df, orient='index')\n",
    "\n",
    "df = getDF('reviews_Musical_Instruments_5.json.gz')"
   ]
  },
  {
   "cell_type": "code",
   "execution_count": 320,
   "id": "18ab0cca",
   "metadata": {},
   "outputs": [
    {
     "data": {
      "text/html": [
       "<div>\n",
       "<style scoped>\n",
       "    .dataframe tbody tr th:only-of-type {\n",
       "        vertical-align: middle;\n",
       "    }\n",
       "\n",
       "    .dataframe tbody tr th {\n",
       "        vertical-align: top;\n",
       "    }\n",
       "\n",
       "    .dataframe thead th {\n",
       "        text-align: right;\n",
       "    }\n",
       "</style>\n",
       "<table border=\"1\" class=\"dataframe\">\n",
       "  <thead>\n",
       "    <tr style=\"text-align: right;\">\n",
       "      <th></th>\n",
       "      <th>reviewerID</th>\n",
       "      <th>asin</th>\n",
       "      <th>reviewerName</th>\n",
       "      <th>helpful</th>\n",
       "      <th>reviewText</th>\n",
       "      <th>overall</th>\n",
       "      <th>summary</th>\n",
       "      <th>unixReviewTime</th>\n",
       "      <th>reviewTime</th>\n",
       "    </tr>\n",
       "  </thead>\n",
       "  <tbody>\n",
       "    <tr>\n",
       "      <th>0</th>\n",
       "      <td>A2IBPI20UZIR0U</td>\n",
       "      <td>1384719342</td>\n",
       "      <td>cassandra tu \"Yeah, well, that's just like, u...</td>\n",
       "      <td>[0, 0]</td>\n",
       "      <td>Not much to write about here, but it does exac...</td>\n",
       "      <td>5.0</td>\n",
       "      <td>good</td>\n",
       "      <td>1393545600</td>\n",
       "      <td>02 28, 2014</td>\n",
       "    </tr>\n",
       "    <tr>\n",
       "      <th>1</th>\n",
       "      <td>A14VAT5EAX3D9S</td>\n",
       "      <td>1384719342</td>\n",
       "      <td>Jake</td>\n",
       "      <td>[13, 14]</td>\n",
       "      <td>The product does exactly as it should and is q...</td>\n",
       "      <td>5.0</td>\n",
       "      <td>Jake</td>\n",
       "      <td>1363392000</td>\n",
       "      <td>03 16, 2013</td>\n",
       "    </tr>\n",
       "    <tr>\n",
       "      <th>2</th>\n",
       "      <td>A195EZSQDW3E21</td>\n",
       "      <td>1384719342</td>\n",
       "      <td>Rick Bennette \"Rick Bennette\"</td>\n",
       "      <td>[1, 1]</td>\n",
       "      <td>The primary job of this device is to block the...</td>\n",
       "      <td>5.0</td>\n",
       "      <td>It Does The Job Well</td>\n",
       "      <td>1377648000</td>\n",
       "      <td>08 28, 2013</td>\n",
       "    </tr>\n",
       "    <tr>\n",
       "      <th>3</th>\n",
       "      <td>A2C00NNG1ZQQG2</td>\n",
       "      <td>1384719342</td>\n",
       "      <td>RustyBill \"Sunday Rocker\"</td>\n",
       "      <td>[0, 0]</td>\n",
       "      <td>Nice windscreen protects my MXL mic and preven...</td>\n",
       "      <td>5.0</td>\n",
       "      <td>GOOD WINDSCREEN FOR THE MONEY</td>\n",
       "      <td>1392336000</td>\n",
       "      <td>02 14, 2014</td>\n",
       "    </tr>\n",
       "    <tr>\n",
       "      <th>4</th>\n",
       "      <td>A94QU4C90B1AX</td>\n",
       "      <td>1384719342</td>\n",
       "      <td>SEAN MASLANKA</td>\n",
       "      <td>[0, 0]</td>\n",
       "      <td>This pop filter is great. It looks and perform...</td>\n",
       "      <td>5.0</td>\n",
       "      <td>No more pops when I record my vocals.</td>\n",
       "      <td>1392940800</td>\n",
       "      <td>02 21, 2014</td>\n",
       "    </tr>\n",
       "  </tbody>\n",
       "</table>\n",
       "</div>"
      ],
      "text/plain": [
       "       reviewerID        asin  \\\n",
       "0  A2IBPI20UZIR0U  1384719342   \n",
       "1  A14VAT5EAX3D9S  1384719342   \n",
       "2  A195EZSQDW3E21  1384719342   \n",
       "3  A2C00NNG1ZQQG2  1384719342   \n",
       "4   A94QU4C90B1AX  1384719342   \n",
       "\n",
       "                                       reviewerName   helpful  \\\n",
       "0  cassandra tu \"Yeah, well, that's just like, u...    [0, 0]   \n",
       "1                                              Jake  [13, 14]   \n",
       "2                     Rick Bennette \"Rick Bennette\"    [1, 1]   \n",
       "3                         RustyBill \"Sunday Rocker\"    [0, 0]   \n",
       "4                                     SEAN MASLANKA    [0, 0]   \n",
       "\n",
       "                                          reviewText  overall  \\\n",
       "0  Not much to write about here, but it does exac...      5.0   \n",
       "1  The product does exactly as it should and is q...      5.0   \n",
       "2  The primary job of this device is to block the...      5.0   \n",
       "3  Nice windscreen protects my MXL mic and preven...      5.0   \n",
       "4  This pop filter is great. It looks and perform...      5.0   \n",
       "\n",
       "                                 summary  unixReviewTime   reviewTime  \n",
       "0                                   good      1393545600  02 28, 2014  \n",
       "1                                   Jake      1363392000  03 16, 2013  \n",
       "2                   It Does The Job Well      1377648000  08 28, 2013  \n",
       "3          GOOD WINDSCREEN FOR THE MONEY      1392336000  02 14, 2014  \n",
       "4  No more pops when I record my vocals.      1392940800  02 21, 2014  "
      ]
     },
     "execution_count": 320,
     "metadata": {},
     "output_type": "execute_result"
    }
   ],
   "source": [
    "df.head()"
   ]
  },
  {
   "cell_type": "code",
   "execution_count": 120,
   "id": "977ab537",
   "metadata": {},
   "outputs": [],
   "source": [
    "data = df[['reviewText']]"
   ]
  },
  {
   "cell_type": "code",
   "execution_count": 122,
   "id": "4faa09b7",
   "metadata": {},
   "outputs": [],
   "source": [
    "data['no_contr']= data['reviewText'].apply(lambda x: contractions.fix(x))"
   ]
  },
  {
   "cell_type": "code",
   "execution_count": 124,
   "id": "aa16003f",
   "metadata": {},
   "outputs": [],
   "source": [
    "def remove_punctuation(text):\n",
    "    punctuationfree=\"\".join([i for i in text if i not in string.punctuation])\n",
    "    return punctuationfree\n",
    "data['clean_msg']= data['no_contr'].apply(lambda x:remove_punctuation(x))"
   ]
  },
  {
   "cell_type": "code",
   "execution_count": 125,
   "id": "cd1914e2",
   "metadata": {},
   "outputs": [],
   "source": [
    "data['msg_lower']= data['clean_msg'].apply(lambda x: x.lower())"
   ]
  },
  {
   "cell_type": "code",
   "execution_count": 126,
   "id": "ddeb9581",
   "metadata": {},
   "outputs": [],
   "source": [
    "def remove_stopwords(text):\n",
    "    tokens = word_tokenize(text)\n",
    "    output= [i for i in tokens if i not in stopwords]\n",
    "    return output\n",
    "data['no_stopwords']= data['clean_msg'].apply(lambda x:remove_stopwords(x))"
   ]
  },
  {
   "cell_type": "code",
   "execution_count": 127,
   "id": "b7f3a829",
   "metadata": {},
   "outputs": [],
   "source": [
    "def lemmatizer(text):\n",
    "    lemm_text = [wordnet_lemmatizer.lemmatize(word) for word in text]\n",
    "    return lemm_text\n",
    "data['msg_lemmatized']=data['no_stopwords'].apply(lambda x:lemmatizer(x))"
   ]
  },
  {
   "cell_type": "code",
   "execution_count": 129,
   "id": "3156c195",
   "metadata": {},
   "outputs": [],
   "source": [
    "data['finalText'] = [' '.join(map(str, l)) for l in data['msg_lemmatized']]"
   ]
  },
  {
   "cell_type": "code",
   "execution_count": 130,
   "id": "46458d49",
   "metadata": {},
   "outputs": [],
   "source": [
    "data = data.sample(frac=1).reset_index(drop=True)[:1000]"
   ]
  },
  {
   "cell_type": "code",
   "execution_count": 319,
   "id": "2d8b2030",
   "metadata": {},
   "outputs": [
    {
     "data": {
      "text/html": [
       "<div>\n",
       "<style scoped>\n",
       "    .dataframe tbody tr th:only-of-type {\n",
       "        vertical-align: middle;\n",
       "    }\n",
       "\n",
       "    .dataframe tbody tr th {\n",
       "        vertical-align: top;\n",
       "    }\n",
       "\n",
       "    .dataframe thead th {\n",
       "        text-align: right;\n",
       "    }\n",
       "</style>\n",
       "<table border=\"1\" class=\"dataframe\">\n",
       "  <thead>\n",
       "    <tr style=\"text-align: right;\">\n",
       "      <th></th>\n",
       "      <th>reviewText</th>\n",
       "      <th>no_contr</th>\n",
       "      <th>clean_msg</th>\n",
       "      <th>msg_lower</th>\n",
       "      <th>no_stopwords</th>\n",
       "      <th>msg_lemmatized</th>\n",
       "      <th>finalText</th>\n",
       "    </tr>\n",
       "  </thead>\n",
       "  <tbody>\n",
       "    <tr>\n",
       "      <th>0</th>\n",
       "      <td>I received this yesterday and it is the best t...</td>\n",
       "      <td>I received this yesterday and it is the best t...</td>\n",
       "      <td>I received this yesterday and it is the best t...</td>\n",
       "      <td>i received this yesterday and it is the best t...</td>\n",
       "      <td>[I, received, yesterday, best, tuner, acoustic...</td>\n",
       "      <td>[I, received, yesterday, best, tuner, acoustic...</td>\n",
       "      <td>I received yesterday best tuner acoustic guita...</td>\n",
       "    </tr>\n",
       "    <tr>\n",
       "      <th>1</th>\n",
       "      <td>I just put it on my Baby Taylor guitar strap. ...</td>\n",
       "      <td>I just put it on my Baby Taylor guitar strap. ...</td>\n",
       "      <td>I just put it on my Baby Taylor guitar strap  ...</td>\n",
       "      <td>i just put it on my baby taylor guitar strap  ...</td>\n",
       "      <td>[I, put, Baby, Taylor, guitar, strap, Nice, Do...</td>\n",
       "      <td>[I, put, Baby, Taylor, guitar, strap, Nice, Do...</td>\n",
       "      <td>I put Baby Taylor guitar strap Nice Does job w...</td>\n",
       "    </tr>\n",
       "    <tr>\n",
       "      <th>2</th>\n",
       "      <td>Once you setup your pedalboard... that's it, y...</td>\n",
       "      <td>Once you setup your pedalboard... that is it, ...</td>\n",
       "      <td>Once you setup your pedalboard that is it you ...</td>\n",
       "      <td>once you setup your pedalboard that is it you ...</td>\n",
       "      <td>[Once, setup, pedalboard, going, move, stretch...</td>\n",
       "      <td>[Once, setup, pedalboard, going, move, stretch...</td>\n",
       "      <td>Once setup pedalboard going move stretch step ...</td>\n",
       "    </tr>\n",
       "    <tr>\n",
       "      <th>3</th>\n",
       "      <td>I used to use a Schubb Capo, but started using...</td>\n",
       "      <td>I used to use a Schubb Capo, but started using...</td>\n",
       "      <td>I used to use a Schubb Capo but started using ...</td>\n",
       "      <td>i used to use a schubb capo but started using ...</td>\n",
       "      <td>[I, used, use, Schubb, Capo, started, using, D...</td>\n",
       "      <td>[I, used, use, Schubb, Capo, started, using, D...</td>\n",
       "      <td>I used use Schubb Capo started using Dunlop Tr...</td>\n",
       "    </tr>\n",
       "    <tr>\n",
       "      <th>4</th>\n",
       "      <td>I have tried nearly every kind of popular stri...</td>\n",
       "      <td>I have tried nearly every kind of popular stri...</td>\n",
       "      <td>I have tried nearly every kind of popular stri...</td>\n",
       "      <td>i have tried nearly every kind of popular stri...</td>\n",
       "      <td>[I, tried, nearly, every, kind, popular, strin...</td>\n",
       "      <td>[I, tried, nearly, every, kind, popular, strin...</td>\n",
       "      <td>I tried nearly every kind popular string I use...</td>\n",
       "    </tr>\n",
       "  </tbody>\n",
       "</table>\n",
       "</div>"
      ],
      "text/plain": [
       "                                          reviewText  \\\n",
       "0  I received this yesterday and it is the best t...   \n",
       "1  I just put it on my Baby Taylor guitar strap. ...   \n",
       "2  Once you setup your pedalboard... that's it, y...   \n",
       "3  I used to use a Schubb Capo, but started using...   \n",
       "4  I have tried nearly every kind of popular stri...   \n",
       "\n",
       "                                            no_contr  \\\n",
       "0  I received this yesterday and it is the best t...   \n",
       "1  I just put it on my Baby Taylor guitar strap. ...   \n",
       "2  Once you setup your pedalboard... that is it, ...   \n",
       "3  I used to use a Schubb Capo, but started using...   \n",
       "4  I have tried nearly every kind of popular stri...   \n",
       "\n",
       "                                           clean_msg  \\\n",
       "0  I received this yesterday and it is the best t...   \n",
       "1  I just put it on my Baby Taylor guitar strap  ...   \n",
       "2  Once you setup your pedalboard that is it you ...   \n",
       "3  I used to use a Schubb Capo but started using ...   \n",
       "4  I have tried nearly every kind of popular stri...   \n",
       "\n",
       "                                           msg_lower  \\\n",
       "0  i received this yesterday and it is the best t...   \n",
       "1  i just put it on my baby taylor guitar strap  ...   \n",
       "2  once you setup your pedalboard that is it you ...   \n",
       "3  i used to use a schubb capo but started using ...   \n",
       "4  i have tried nearly every kind of popular stri...   \n",
       "\n",
       "                                        no_stopwords  \\\n",
       "0  [I, received, yesterday, best, tuner, acoustic...   \n",
       "1  [I, put, Baby, Taylor, guitar, strap, Nice, Do...   \n",
       "2  [Once, setup, pedalboard, going, move, stretch...   \n",
       "3  [I, used, use, Schubb, Capo, started, using, D...   \n",
       "4  [I, tried, nearly, every, kind, popular, strin...   \n",
       "\n",
       "                                      msg_lemmatized  \\\n",
       "0  [I, received, yesterday, best, tuner, acoustic...   \n",
       "1  [I, put, Baby, Taylor, guitar, strap, Nice, Do...   \n",
       "2  [Once, setup, pedalboard, going, move, stretch...   \n",
       "3  [I, used, use, Schubb, Capo, started, using, D...   \n",
       "4  [I, tried, nearly, every, kind, popular, strin...   \n",
       "\n",
       "                                           finalText  \n",
       "0  I received yesterday best tuner acoustic guita...  \n",
       "1  I put Baby Taylor guitar strap Nice Does job w...  \n",
       "2  Once setup pedalboard going move stretch step ...  \n",
       "3  I used use Schubb Capo started using Dunlop Tr...  \n",
       "4  I tried nearly every kind popular string I use...  "
      ]
     },
     "execution_count": 319,
     "metadata": {},
     "output_type": "execute_result"
    }
   ],
   "source": [
    "data.head()"
   ]
  },
  {
   "cell_type": "markdown",
   "id": "701d0bfa",
   "metadata": {},
   "source": [
    "Мой подход: извлечь наиболее часто встречающиеся в тексте существительные, перед эти сделав препроцессинг (конечно же). идея в том, что скорее всего эти существительные - ключевые слова, т.е. упоминания продуктов в отзывах. минус - останутся лишние, но тоже часто упоминающиеся существительные как price, sound."
   ]
  },
  {
   "cell_type": "markdown",
   "id": "1ae47097",
   "metadata": {},
   "source": [
    "Была идея использовать ворд2век для title или features, но открыв метаданные, поняла что они есть у малой части товаров, что не очень понятно почему. скорее всего, я плохо искала, но json падал два раза, когда я открывала файл с метаданными, что усложнило работу."
   ]
  },
  {
   "cell_type": "markdown",
   "id": "ae86126e",
   "metadata": {},
   "source": [
    "Можно было бы также использовать нейросеть для извлечения NE (например, БЕРТовскую модель)"
   ]
  },
  {
   "cell_type": "markdown",
   "id": "b0aa3a20",
   "metadata": {},
   "source": [
    "Я взяла корпус музыкальных инструментов, но поняла, что корпус не просто для привычных нам инструментов, как гитара, пианино, скрипка и т.д., а для различных устройств типа педалей, частей типа струн и т.д., что, как мне кажется, тоже важно."
   ]
  },
  {
   "cell_type": "markdown",
   "id": "59cbb2de",
   "metadata": {},
   "source": [
    "### буду пытаться извлечь упоминания с помощью spacy"
   ]
  },
  {
   "cell_type": "code",
   "execution_count": 131,
   "id": "96fe1cef",
   "metadata": {},
   "outputs": [],
   "source": [
    "import spacy\n",
    "from spacy import displacy\n",
    "\n",
    "nlp = spacy.load(\"en_core_web_sm\")"
   ]
  },
  {
   "cell_type": "code",
   "execution_count": 132,
   "id": "5f2d6487",
   "metadata": {},
   "outputs": [],
   "source": [
    "tokens = nlp(''.join(str(data.finalText.tolist())))"
   ]
  },
  {
   "cell_type": "code",
   "execution_count": 133,
   "id": "c8b1d606",
   "metadata": {},
   "outputs": [],
   "source": [
    "from collections import Counter"
   ]
  },
  {
   "cell_type": "code",
   "execution_count": 134,
   "id": "1938dd71",
   "metadata": {},
   "outputs": [
    {
     "data": {
      "text/plain": [
       "[('one', 167),\n",
       " ('two', 89),\n",
       " ('first', 54),\n",
       " ('Amazon', 37),\n",
       " ('2', 37),\n",
       " ('three', 31),\n",
       " ('5', 28),\n",
       " ('3', 27),\n",
       " ('4', 26),\n",
       " ('jack', 23),\n",
       " ('second', 22),\n",
       " ('12', 21),\n",
       " ('100', 19),\n",
       " ('20', 18),\n",
       " ('DAddario', 15),\n",
       " ('EQ', 15),\n",
       " ('6', 15),\n",
       " ('XLR', 15),\n",
       " ('10', 15),\n",
       " ('Dunlop', 14)]"
      ]
     },
     "execution_count": 134,
     "metadata": {},
     "output_type": "execute_result"
    }
   ],
   "source": [
    "items = [x.text for x in tokens.ents]\n",
    "Counter(items).most_common(20)"
   ]
  },
  {
   "cell_type": "code",
   "execution_count": 135,
   "id": "c3ba75c3",
   "metadata": {},
   "outputs": [],
   "source": [
    "product_list = []\n",
    "for ent in tokens.ents:\n",
    "    if ent.label_ == 'PRODUCT':\n",
    "        product_list.append(ent.text)\n",
    "        \n",
    "product_counts = Counter(product_list).most_common(20)\n",
    "df_product = pd.DataFrame(product_counts, columns =['text', 'count'])"
   ]
  },
  {
   "cell_type": "code",
   "execution_count": 136,
   "id": "5abffb67",
   "metadata": {
    "scrolled": true
   },
   "outputs": [
    {
     "data": {
      "text/html": [
       "<div>\n",
       "<style scoped>\n",
       "    .dataframe tbody tr th:only-of-type {\n",
       "        vertical-align: middle;\n",
       "    }\n",
       "\n",
       "    .dataframe tbody tr th {\n",
       "        vertical-align: top;\n",
       "    }\n",
       "\n",
       "    .dataframe thead th {\n",
       "        text-align: right;\n",
       "    }\n",
       "</style>\n",
       "<table border=\"1\" class=\"dataframe\">\n",
       "  <thead>\n",
       "    <tr style=\"text-align: right;\">\n",
       "      <th></th>\n",
       "      <th>text</th>\n",
       "      <th>count</th>\n",
       "    </tr>\n",
       "  </thead>\n",
       "  <tbody>\n",
       "    <tr>\n",
       "      <th>0</th>\n",
       "      <td>TS808</td>\n",
       "      <td>5</td>\n",
       "    </tr>\n",
       "    <tr>\n",
       "      <th>1</th>\n",
       "      <td>Behringer</td>\n",
       "      <td>5</td>\n",
       "    </tr>\n",
       "    <tr>\n",
       "      <th>2</th>\n",
       "      <td>DP008</td>\n",
       "      <td>3</td>\n",
       "    </tr>\n",
       "    <tr>\n",
       "      <th>3</th>\n",
       "      <td>TO800</td>\n",
       "      <td>3</td>\n",
       "    </tr>\n",
       "    <tr>\n",
       "      <th>4</th>\n",
       "      <td>Dunlop 5000 5005</td>\n",
       "      <td>2</td>\n",
       "    </tr>\n",
       "    <tr>\n",
       "      <th>5</th>\n",
       "      <td>DP004</td>\n",
       "      <td>2</td>\n",
       "    </tr>\n",
       "    <tr>\n",
       "      <th>6</th>\n",
       "      <td>GT100</td>\n",
       "      <td>2</td>\n",
       "    </tr>\n",
       "    <tr>\n",
       "      <th>7</th>\n",
       "      <td>US100</td>\n",
       "      <td>2</td>\n",
       "    </tr>\n",
       "    <tr>\n",
       "      <th>8</th>\n",
       "      <td>EtoE</td>\n",
       "      <td>1</td>\n",
       "    </tr>\n",
       "    <tr>\n",
       "      <th>9</th>\n",
       "      <td>Electrified</td>\n",
       "      <td>1</td>\n",
       "    </tr>\n",
       "    <tr>\n",
       "      <th>10</th>\n",
       "      <td>Davas</td>\n",
       "      <td>1</td>\n",
       "    </tr>\n",
       "    <tr>\n",
       "      <th>11</th>\n",
       "      <td>Steinway</td>\n",
       "      <td>1</td>\n",
       "    </tr>\n",
       "    <tr>\n",
       "      <th>12</th>\n",
       "      <td>Comes</td>\n",
       "      <td>1</td>\n",
       "    </tr>\n",
       "    <tr>\n",
       "      <th>13</th>\n",
       "      <td>GT Sovtek</td>\n",
       "      <td>1</td>\n",
       "    </tr>\n",
       "    <tr>\n",
       "      <th>14</th>\n",
       "      <td>Uses 9V</td>\n",
       "      <td>1</td>\n",
       "    </tr>\n",
       "    <tr>\n",
       "      <th>15</th>\n",
       "      <td>Lots</td>\n",
       "      <td>1</td>\n",
       "    </tr>\n",
       "    <tr>\n",
       "      <th>16</th>\n",
       "      <td>MainStage 3</td>\n",
       "      <td>1</td>\n",
       "    </tr>\n",
       "    <tr>\n",
       "      <th>17</th>\n",
       "      <td>Classic</td>\n",
       "      <td>1</td>\n",
       "    </tr>\n",
       "    <tr>\n",
       "      <th>18</th>\n",
       "      <td>Bugera V5</td>\n",
       "      <td>1</td>\n",
       "    </tr>\n",
       "    <tr>\n",
       "      <th>19</th>\n",
       "      <td>theYamaha Audiogram 6</td>\n",
       "      <td>1</td>\n",
       "    </tr>\n",
       "  </tbody>\n",
       "</table>\n",
       "</div>"
      ],
      "text/plain": [
       "                     text  count\n",
       "0                   TS808      5\n",
       "1               Behringer      5\n",
       "2                   DP008      3\n",
       "3                   TO800      3\n",
       "4        Dunlop 5000 5005      2\n",
       "5                   DP004      2\n",
       "6                   GT100      2\n",
       "7                   US100      2\n",
       "8                    EtoE      1\n",
       "9             Electrified      1\n",
       "10                  Davas      1\n",
       "11               Steinway      1\n",
       "12                  Comes      1\n",
       "13              GT Sovtek      1\n",
       "14                Uses 9V      1\n",
       "15                   Lots      1\n",
       "16            MainStage 3      1\n",
       "17                Classic      1\n",
       "18              Bugera V5      1\n",
       "19  theYamaha Audiogram 6      1"
      ]
     },
     "execution_count": 136,
     "metadata": {},
     "output_type": "execute_result"
    }
   ],
   "source": [
    "df_product"
   ]
  },
  {
   "cell_type": "markdown",
   "id": "dc1326d5",
   "metadata": {},
   "source": [
    "тэг PRODUCT выдает названия моделей инструментов, а не сами инструменты"
   ]
  },
  {
   "cell_type": "code",
   "execution_count": 137,
   "id": "308ff05c",
   "metadata": {},
   "outputs": [],
   "source": [
    "org_list = []\n",
    "for ent in tokens.ents:\n",
    "    if ent.label_ == 'ORG':\n",
    "        org_list.append(ent.text)\n",
    "        \n",
    "org_counts = Counter(org_list).most_common(20)\n",
    "df_org = pd.DataFrame(org_counts, columns =['text', 'count'])"
   ]
  },
  {
   "cell_type": "code",
   "execution_count": 138,
   "id": "2b29422f",
   "metadata": {
    "scrolled": true
   },
   "outputs": [
    {
     "data": {
      "text/html": [
       "<div>\n",
       "<style scoped>\n",
       "    .dataframe tbody tr th:only-of-type {\n",
       "        vertical-align: middle;\n",
       "    }\n",
       "\n",
       "    .dataframe tbody tr th {\n",
       "        vertical-align: top;\n",
       "    }\n",
       "\n",
       "    .dataframe thead th {\n",
       "        text-align: right;\n",
       "    }\n",
       "</style>\n",
       "<table border=\"1\" class=\"dataframe\">\n",
       "  <thead>\n",
       "    <tr style=\"text-align: right;\">\n",
       "      <th></th>\n",
       "      <th>text</th>\n",
       "      <th>count</th>\n",
       "    </tr>\n",
       "  </thead>\n",
       "  <tbody>\n",
       "    <tr>\n",
       "      <th>0</th>\n",
       "      <td>Amazon</td>\n",
       "      <td>37</td>\n",
       "    </tr>\n",
       "    <tr>\n",
       "      <th>1</th>\n",
       "      <td>XLR</td>\n",
       "      <td>15</td>\n",
       "    </tr>\n",
       "    <tr>\n",
       "      <th>2</th>\n",
       "      <td>AC</td>\n",
       "      <td>14</td>\n",
       "    </tr>\n",
       "    <tr>\n",
       "      <th>3</th>\n",
       "      <td>USB</td>\n",
       "      <td>10</td>\n",
       "    </tr>\n",
       "    <tr>\n",
       "      <th>4</th>\n",
       "      <td>Dunlop</td>\n",
       "      <td>9</td>\n",
       "    </tr>\n",
       "    <tr>\n",
       "      <th>5</th>\n",
       "      <td>MXR</td>\n",
       "      <td>9</td>\n",
       "    </tr>\n",
       "    <tr>\n",
       "      <th>6</th>\n",
       "      <td>FAB</td>\n",
       "      <td>6</td>\n",
       "    </tr>\n",
       "    <tr>\n",
       "      <th>7</th>\n",
       "      <td>Samson</td>\n",
       "      <td>6</td>\n",
       "    </tr>\n",
       "    <tr>\n",
       "      <th>8</th>\n",
       "      <td>iPad</td>\n",
       "      <td>5</td>\n",
       "    </tr>\n",
       "    <tr>\n",
       "      <th>9</th>\n",
       "      <td>Yamaha</td>\n",
       "      <td>5</td>\n",
       "    </tr>\n",
       "    <tr>\n",
       "      <th>10</th>\n",
       "      <td>YouTube</td>\n",
       "      <td>4</td>\n",
       "    </tr>\n",
       "    <tr>\n",
       "      <th>11</th>\n",
       "      <td>Strat</td>\n",
       "      <td>4</td>\n",
       "    </tr>\n",
       "    <tr>\n",
       "      <th>12</th>\n",
       "      <td>GoGo</td>\n",
       "      <td>4</td>\n",
       "    </tr>\n",
       "    <tr>\n",
       "      <th>13</th>\n",
       "      <td>FX</td>\n",
       "      <td>4</td>\n",
       "    </tr>\n",
       "    <tr>\n",
       "      <th>14</th>\n",
       "      <td>RCA</td>\n",
       "      <td>4</td>\n",
       "    </tr>\n",
       "    <tr>\n",
       "      <th>15</th>\n",
       "      <td>GREAT</td>\n",
       "      <td>3</td>\n",
       "    </tr>\n",
       "    <tr>\n",
       "      <th>16</th>\n",
       "      <td>Behringer</td>\n",
       "      <td>3</td>\n",
       "    </tr>\n",
       "    <tr>\n",
       "      <th>17</th>\n",
       "      <td>Velcro</td>\n",
       "      <td>3</td>\n",
       "    </tr>\n",
       "    <tr>\n",
       "      <th>18</th>\n",
       "      <td>DAW</td>\n",
       "      <td>3</td>\n",
       "    </tr>\n",
       "    <tr>\n",
       "      <th>19</th>\n",
       "      <td>Rogue</td>\n",
       "      <td>3</td>\n",
       "    </tr>\n",
       "  </tbody>\n",
       "</table>\n",
       "</div>"
      ],
      "text/plain": [
       "         text  count\n",
       "0      Amazon     37\n",
       "1         XLR     15\n",
       "2          AC     14\n",
       "3         USB     10\n",
       "4      Dunlop      9\n",
       "5         MXR      9\n",
       "6         FAB      6\n",
       "7      Samson      6\n",
       "8        iPad      5\n",
       "9      Yamaha      5\n",
       "10    YouTube      4\n",
       "11      Strat      4\n",
       "12       GoGo      4\n",
       "13         FX      4\n",
       "14        RCA      4\n",
       "15      GREAT      3\n",
       "16  Behringer      3\n",
       "17     Velcro      3\n",
       "18        DAW      3\n",
       "19      Rogue      3"
      ]
     },
     "execution_count": 138,
     "metadata": {},
     "output_type": "execute_result"
    }
   ],
   "source": [
    "df_org"
   ]
  },
  {
   "cell_type": "markdown",
   "id": "934e68e4",
   "metadata": {},
   "source": [
    "тэг ORG как и ожидалось выдал бренды"
   ]
  },
  {
   "cell_type": "code",
   "execution_count": 322,
   "id": "c7a1b7cc",
   "metadata": {},
   "outputs": [],
   "source": [
    "def get_kw(x):\n",
    "    doc=nlp(''.join(str(x.tolist()))) \n",
    "    doc=[i.text for i in doc if i.text not in stopwords and i.pos_==\"NOUN\"] \n",
    "    doc=list(map(lambda i: i.lower(),doc)) \n",
    "    doc=pd.Series(doc)\n",
    "    doc=doc.value_counts().head().index.tolist()\n",
    "    return doc"
   ]
  },
  {
   "cell_type": "code",
   "execution_count": 323,
   "id": "86620852",
   "metadata": {},
   "outputs": [
    {
     "name": "stdout",
     "output_type": "stream",
     "text": [
      "['guitar', 'string', 'pedal', 'sound', 'price']\n"
     ]
    }
   ],
   "source": [
    "print(get_kw(data.finalText))"
   ]
  },
  {
   "cell_type": "markdown",
   "id": "531873c9",
   "metadata": {},
   "source": [
    "ура"
   ]
  },
  {
   "cell_type": "code",
   "execution_count": 144,
   "id": "ca4ff6b5",
   "metadata": {},
   "outputs": [],
   "source": [
    "from spacy.lang.en import English"
   ]
  },
  {
   "cell_type": "code",
   "execution_count": 145,
   "id": "0232b468",
   "metadata": {},
   "outputs": [],
   "source": [
    "import textacy\n",
    "parser = English()"
   ]
  },
  {
   "cell_type": "markdown",
   "id": "d9c1b3e8",
   "metadata": {},
   "source": [
    "### извлечем n-граммы"
   ]
  },
  {
   "cell_type": "code",
   "execution_count": 146,
   "id": "1f210729",
   "metadata": {},
   "outputs": [],
   "source": [
    "doc = textacy.make_spacy_doc((''.join(str(data.finalText.tolist()))) , 'en_core_web_sm')"
   ]
  },
  {
   "cell_type": "code",
   "execution_count": 147,
   "id": "284a8c48",
   "metadata": {},
   "outputs": [],
   "source": [
    "bigrams = list(textacy.extract.basics.ngrams(doc, 2, min_freq=2))"
   ]
  },
  {
   "cell_type": "code",
   "execution_count": 149,
   "id": "22441f4f",
   "metadata": {},
   "outputs": [],
   "source": [
    "str_bigrams = [i.text for i in bigrams]"
   ]
  },
  {
   "cell_type": "code",
   "execution_count": 150,
   "id": "e03633c2",
   "metadata": {},
   "outputs": [
    {
     "data": {
      "text/plain": [
       "[('sound great', 34),\n",
       " ('work great', 34),\n",
       " ('power supply', 32),\n",
       " ('Planet Waves', 32),\n",
       " ('acoustic guitar', 30),\n",
       " ('pedal board', 28),\n",
       " ('sound good', 26),\n",
       " ('long time', 24),\n",
       " ('tube amp', 23),\n",
       " ('highly recommend', 23)]"
      ]
     },
     "execution_count": 150,
     "metadata": {},
     "output_type": "execute_result"
    }
   ],
   "source": [
    "Counter(str_bigrams).most_common(10)"
   ]
  },
  {
   "cell_type": "code",
   "execution_count": 151,
   "id": "884ef19b",
   "metadata": {},
   "outputs": [],
   "source": [
    "trigrams = list(textacy.extract.basics.ngrams(doc, 3, min_freq=2))"
   ]
  },
  {
   "cell_type": "code",
   "execution_count": 152,
   "id": "71a35573",
   "metadata": {},
   "outputs": [],
   "source": [
    "str_trigrams = [i.text for i in trigrams]"
   ]
  },
  {
   "cell_type": "code",
   "execution_count": 153,
   "id": "4e3d14d7",
   "metadata": {},
   "outputs": [
    {
     "data": {
      "text/plain": [
       "[('local music store', 7),\n",
       " ('solid state amp', 7),\n",
       " ('string I tried', 5),\n",
       " ('Little Big Muff', 5),\n",
       " ('built like tank', 5),\n",
       " ('Fender Super Champ', 5),\n",
       " ('acoustic electric guitar', 4),\n",
       " ('guitar sound like', 4),\n",
       " ('BOSS GT10 Patches', 4),\n",
       " ('GT10 Patches James', 4)]"
      ]
     },
     "execution_count": 153,
     "metadata": {},
     "output_type": "execute_result"
    }
   ],
   "source": [
    "Counter(str_trigrams).most_common(10)"
   ]
  },
  {
   "cell_type": "code",
   "execution_count": 267,
   "id": "a17fda71",
   "metadata": {},
   "outputs": [],
   "source": [
    "y = [word.split() for word in str_bigrams]"
   ]
  },
  {
   "cell_type": "code",
   "execution_count": 268,
   "id": "27cee993",
   "metadata": {},
   "outputs": [],
   "source": [
    "bigr = [tuple(l) for l in y]"
   ]
  },
  {
   "cell_type": "code",
   "execution_count": 300,
   "id": "915f7d0b",
   "metadata": {},
   "outputs": [],
   "source": [
    "z = [word.split() for word in str_trigrams]"
   ]
  },
  {
   "cell_type": "code",
   "execution_count": 301,
   "id": "bc11849b",
   "metadata": {},
   "outputs": [],
   "source": [
    "trigr = [tuple(l) for l in z]"
   ]
  },
  {
   "cell_type": "markdown",
   "id": "3a90a8c0",
   "metadata": {},
   "source": [
    "### метрики"
   ]
  },
  {
   "cell_type": "code",
   "execution_count": 226,
   "id": "c63c75a2",
   "metadata": {},
   "outputs": [],
   "source": [
    "from nltk.collocations import *\n",
    "bigram_measures = nltk.collocations.BigramAssocMeasures()\n",
    "trigram_measures = nltk.collocations.TrigramAssocMeasures()"
   ]
  },
  {
   "cell_type": "code",
   "execution_count": 287,
   "id": "056545a2",
   "metadata": {},
   "outputs": [],
   "source": [
    "finder2 = BigramCollocationFinder.from_documents(bigr)\n",
    "finder3 = TrigramCollocationFinder.from_words(str_trigrams)"
   ]
  },
  {
   "cell_type": "code",
   "execution_count": 296,
   "id": "2d4a4d9f",
   "metadata": {},
   "outputs": [],
   "source": [
    "finder2.apply_freq_filter(3)\n",
    "finder3.apply_freq_filter(2)"
   ]
  },
  {
   "cell_type": "code",
   "execution_count": 292,
   "id": "a822cc85",
   "metadata": {},
   "outputs": [
    {
     "data": {
      "text/plain": [
       "[(('Cyber', 'Twin'), 12.109504215757006),\n",
       " (('Shure', 'SM58'), 12.109504215757006),\n",
       " (('customer', 'service'), 12.109504215757006),\n",
       " (('exceeds', 'expectation'), 12.109504215757006),\n",
       " (('strain', 'relief'), 12.109504215757006),\n",
       " (('auto', 'punch'), 11.694466716478162),\n",
       " (('completely', 'satisfied'), 11.694466716478162),\n",
       " (('regular', 'basis'), 11.694466716478162),\n",
       " (('Bad', 'Monkey'), 11.69446671647816),\n",
       " (('Schubb', 'S1'), 11.69446671647816),\n",
       " (('form', 'factor'), 11.69446671647816),\n",
       " (('5000', '5005'), 11.372538621590799),\n",
       " (('Custom', 'Comp'), 11.372538621590799),\n",
       " (('fairly', 'thick'), 11.372538621590799),\n",
       " (('phosphor', 'bronze'), 11.372538621590799)]"
      ]
     },
     "execution_count": 292,
     "metadata": {},
     "output_type": "execute_result"
    }
   ],
   "source": [
    "finder2.score_ngrams(bigram_measures.pmi)[:15]"
   ]
  },
  {
   "cell_type": "code",
   "execution_count": 293,
   "id": "ff6b9c35",
   "metadata": {},
   "outputs": [
    {
     "data": {
      "text/plain": [
       "[(('Planet', 'Waves'), 5.637812451130488),\n",
       " (('power', 'supply'), 5.625277934001512),\n",
       " (('work', 'great'), 5.2869998311753745),\n",
       " (('pedal', 'board'), 5.105841865680807),\n",
       " (('acoustic', 'guitar'), 5.039072318482129),\n",
       " (('long', 'time'), 4.850754636590992),\n",
       " (('highly', 'recommend'), 4.772490240182245),\n",
       " (('tube', 'amp'), 4.6655984880564345),\n",
       " (('work', 'fine'), 4.6116776812779765),\n",
       " (('easy', 'use'), 4.526329849815411),\n",
       " (('Les', 'Paul'), 4.461610900930334),\n",
       " (('sound', 'great'), 4.369080723732374),\n",
       " (('Ernie', 'Ball'), 4.234106547797429),\n",
       " (('electric', 'guitar'), 4.216821638906677),\n",
       " (('year', 'ago'), 4.214549145184843)]"
      ]
     },
     "execution_count": 293,
     "metadata": {},
     "output_type": "execute_result"
    }
   ],
   "source": [
    "finder2.score_ngrams(bigram_measures.student_t)[:15]"
   ]
  },
  {
   "cell_type": "code",
   "execution_count": 299,
   "id": "2297c436",
   "metadata": {},
   "outputs": [
    {
     "data": {
      "text/plain": [
       "[(('Bad', 'Monkey'), 13257.0),\n",
       " (('Cyber', 'Twin'), 13257.0),\n",
       " (('Schubb', 'S1'), 13257.0),\n",
       " (('Shure', 'SM58'), 13257.0),\n",
       " (('customer', 'service'), 13257.0),\n",
       " (('exceeds', 'expectation'), 13257.0),\n",
       " (('form', 'factor'), 13257.0),\n",
       " (('strain', 'relief'), 13257.0),\n",
       " (('planet', 'wave'), 11046.666352248718),\n",
       " (('HD', '500'), 9954.00970884542),\n",
       " (('auto', 'punch'), 9941.999830239927),\n",
       " (('completely', 'satisfied'), 9941.999830239927),\n",
       " (('regular', 'basis'), 9941.999830239927),\n",
       " (('Planet', 'Waves'), 9496.89471163931),\n",
       " (('pop', 'filter'), 9467.856603854943)]"
      ]
     },
     "execution_count": 299,
     "metadata": {},
     "output_type": "execute_result"
    }
   ],
   "source": [
    "finder2.score_ngrams(bigram_measures.chi_sq)[:15]"
   ]
  },
  {
   "cell_type": "markdown",
   "id": "2dbe9ef8",
   "metadata": {},
   "source": [
    "Сложно сказать, какая метрика лучше подходит для отчета. PMI хуже стьюдента и хи-квадрата, стьюдент ранжирует выше название инструмента, тогда как хи-квадрат - название определенной модели инструмента (хи-квадрат детальнее?) "
   ]
  },
  {
   "cell_type": "code",
   "execution_count": 303,
   "id": "1184405c",
   "metadata": {},
   "outputs": [
    {
     "data": {
      "text/plain": [
       "[(('BOSS GT10 guitar', 'GT10 guitar multi', 'guitar multi effect'),\n",
       "  16.860905103331064),\n",
       " (('Eddie Van Halen', 'Van Halen Joe', 'Halen Joe Satriani'),\n",
       "  16.860905103331064),\n",
       " (('GT10 guitar multi', 'guitar multi effect', 'multi effect processor'),\n",
       "  16.860905103331064),\n",
       " (('Halen Joe Satriani',\n",
       "   'Joe Satriani guitarist',\n",
       "   'Satriani guitarist studio'),\n",
       "  16.860905103331064),\n",
       " (('James Limborg Search', 'Limborg Search Google', 'Search Google BOSS'),\n",
       "  16.860905103331064),\n",
       " (('Joe Satriani guitarist',\n",
       "   'Satriani guitarist studio',\n",
       "   'guitarist studio album'),\n",
       "  16.860905103331064),\n",
       " (('KS8291XX Pro Double', 'Pro Double X', 'Double X Keyboard'),\n",
       "  16.860905103331064),\n",
       " (('Limborg Search Google', 'Search Google BOSS', 'Google BOSS GT10'),\n",
       "  16.860905103331064),\n",
       " (('Pro Double X', 'Double X Keyboard', 'height attachment bar'),\n",
       "  16.860905103331064),\n",
       " (('Satriani guitarist studio',\n",
       "   'guitarist studio album',\n",
       "   'studio album guitar'),\n",
       "  16.860905103331064)]"
      ]
     },
     "execution_count": 303,
     "metadata": {},
     "output_type": "execute_result"
    }
   ],
   "source": [
    "finder3.score_ngrams(trigram_measures.pmi)[:10]"
   ]
  },
  {
   "cell_type": "code",
   "execution_count": 304,
   "id": "9a715adb",
   "metadata": {},
   "outputs": [
    {
     "data": {
      "text/plain": [
       "[(('BOSS GT10 Patches', 'GT10 Patches James', 'Patches James Limborg'),\n",
       "  1.9999327872295736),\n",
       " (('JoYo pedal built', 'pedal built extremely', 'extremely well perform'),\n",
       "  1.732018065587638),\n",
       " (('pedal built extremely', 'extremely well perform', 'perform good better'),\n",
       "  1.732018065587638),\n",
       " (('purchased several JoYo', 'JoYo pedal built', 'pedal built extremely'),\n",
       "  1.732018065587638),\n",
       " (('sold I purchased', 'purchased several JoYo', 'JoYo pedal built'),\n",
       "  1.732018065587638),\n",
       " (('BOSS GT10 guitar', 'GT10 guitar multi', 'guitar multi effect'),\n",
       "  1.4142016807216573),\n",
       " (('Eddie Van Halen', 'Van Halen Joe', 'Halen Joe Satriani'),\n",
       "  1.4142016807216573),\n",
       " (('GT10 guitar multi', 'guitar multi effect', 'multi effect processor'),\n",
       "  1.4142016807216573),\n",
       " (('Halen Joe Satriani',\n",
       "   'Joe Satriani guitarist',\n",
       "   'Satriani guitarist studio'),\n",
       "  1.4142016807216573),\n",
       " (('James Limborg Search', 'Limborg Search Google', 'Search Google BOSS'),\n",
       "  1.4142016807216573)]"
      ]
     },
     "execution_count": 304,
     "metadata": {},
     "output_type": "execute_result"
    }
   ],
   "source": [
    "finder3.score_ngrams(trigram_measures.student_t)[:10]"
   ]
  },
  {
   "cell_type": "code",
   "execution_count": 305,
   "id": "a38b4b77",
   "metadata": {},
   "outputs": [
    {
     "data": {
      "text/plain": [
       "[(('BOSS GT10 guitar', 'GT10 guitar multi', 'guitar multi effect'),\n",
       "  238052.00581395338),\n",
       " (('Eddie Van Halen', 'Van Halen Joe', 'Halen Joe Satriani'),\n",
       "  238052.00581395338),\n",
       " (('GT10 guitar multi', 'guitar multi effect', 'multi effect processor'),\n",
       "  238052.00581395338),\n",
       " (('Halen Joe Satriani',\n",
       "   'Joe Satriani guitarist',\n",
       "   'Satriani guitarist studio'),\n",
       "  238052.00581395338),\n",
       " (('James Limborg Search', 'Limborg Search Google', 'Search Google BOSS'),\n",
       "  238052.00581395338),\n",
       " (('Joe Satriani guitarist',\n",
       "   'Satriani guitarist studio',\n",
       "   'guitarist studio album'),\n",
       "  238052.00581395338),\n",
       " (('KS8291XX Pro Double', 'Pro Double X', 'Double X Keyboard'),\n",
       "  238052.00581395338),\n",
       " (('Limborg Search Google', 'Search Google BOSS', 'Google BOSS GT10'),\n",
       "  238052.00581395338),\n",
       " (('Pro Double X', 'Double X Keyboard', 'height attachment bar'),\n",
       "  238052.00581395338),\n",
       " (('Satriani guitarist studio',\n",
       "   'guitarist studio album',\n",
       "   'studio album guitar'),\n",
       "  238052.00581395338)]"
      ]
     },
     "execution_count": 305,
     "metadata": {},
     "output_type": "execute_result"
    }
   ],
   "source": [
    "finder3.score_ngrams(trigram_measures.chi_sq)[:10]"
   ]
  },
  {
   "cell_type": "markdown",
   "id": "3e8f5117",
   "metadata": {},
   "source": [
    "метрики триграмм выглядят очень похоже друг на друга, сложно выбрать одно"
   ]
  },
  {
   "cell_type": "markdown",
   "id": "d4a7c2d8",
   "metadata": {},
   "source": [
    "### выведем группы по 5"
   ]
  },
  {
   "cell_type": "code",
   "execution_count": 216,
   "id": "9202b01b",
   "metadata": {},
   "outputs": [],
   "source": [
    "mus_words = ['guitar', 'string', 'pedal']\n",
    "dic_group = {}\n",
    "for i in mus_words:\n",
    "    group = []\n",
    "    for j in Counter(str_bigrams):\n",
    "        if i in j:\n",
    "            group.append(j)\n",
    "    dic_group[i] = group"
   ]
  },
  {
   "cell_type": "code",
   "execution_count": 312,
   "id": "8286aa9f",
   "metadata": {},
   "outputs": [
    {
     "name": "stdout",
     "output_type": "stream",
     "text": [
      "guitar\n",
      "-----\n",
      "acoustic guitar\n",
      "guitar player\n",
      "Taylor guitar\n",
      "guitar strap\n",
      "fender guitar\n"
     ]
    }
   ],
   "source": [
    "print(list(dic_group)[0])\n",
    "print('-----')\n",
    "print('\\n'.join(dic_group.get('guitar')[:5]))"
   ]
  },
  {
   "cell_type": "code",
   "execution_count": 315,
   "id": "baebeea9",
   "metadata": {},
   "outputs": [
    {
     "name": "stdout",
     "output_type": "stream",
     "text": [
      "string\n",
      "-----\n",
      "fender string\n",
      "needed string\n",
      "kind string\n",
      "GREAT string\n",
      "pressure string\n"
     ]
    }
   ],
   "source": [
    "print(list(dic_group)[1])\n",
    "print('-----')\n",
    "print('\\n'.join(dic_group.get('string')[:5]))"
   ]
  },
  {
   "cell_type": "code",
   "execution_count": 316,
   "id": "72c7838a",
   "metadata": {},
   "outputs": [
    {
     "name": "stdout",
     "output_type": "stream",
     "text": [
      "pedal\n",
      "-----\n",
      "foot pedal\n",
      "Distortion pedal\n",
      "pedal sort\n",
      "use pedal\n",
      "pedal board\n"
     ]
    }
   ],
   "source": [
    "print(list(dic_group)[2])\n",
    "print('-----')\n",
    "print('\\n'.join(dic_group.get('pedal')[:5]))"
   ]
  },
  {
   "cell_type": "code",
   "execution_count": null,
   "id": "d3835ffc",
   "metadata": {},
   "outputs": [],
   "source": []
  }
 ],
 "metadata": {
  "kernelspec": {
   "display_name": "Python 3",
   "language": "python",
   "name": "python3"
  },
  "language_info": {
   "codemirror_mode": {
    "name": "ipython",
    "version": 3
   },
   "file_extension": ".py",
   "mimetype": "text/x-python",
   "name": "python",
   "nbconvert_exporter": "python",
   "pygments_lexer": "ipython3",
   "version": "3.8.8"
  }
 },
 "nbformat": 4,
 "nbformat_minor": 5
}
